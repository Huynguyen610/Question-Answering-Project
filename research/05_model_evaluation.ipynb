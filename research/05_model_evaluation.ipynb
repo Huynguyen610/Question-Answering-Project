{
 "cells": [
  {
   "cell_type": "code",
   "execution_count": 1,
   "id": "4004da69-62b3-4701-b7de-e4444129358f",
   "metadata": {},
   "outputs": [],
   "source": [
    "import os"
   ]
  },
  {
   "cell_type": "code",
   "execution_count": 2,
   "id": "75667527-d74f-4656-8d1b-0645d35611cb",
   "metadata": {},
   "outputs": [
    {
     "data": {
      "text/plain": [
       "'F:\\\\Question-Answering-Project\\\\research'"
      ]
     },
     "execution_count": 2,
     "metadata": {},
     "output_type": "execute_result"
    }
   ],
   "source": [
    "%pwd"
   ]
  },
  {
   "cell_type": "code",
   "execution_count": 3,
   "id": "9197c5c9-d131-49c5-842f-c9c50c07a0b0",
   "metadata": {},
   "outputs": [],
   "source": [
    "os.chdir(\"../\")"
   ]
  },
  {
   "cell_type": "code",
   "execution_count": 4,
   "id": "a611d71e-7282-4776-96a3-99337136e3d2",
   "metadata": {},
   "outputs": [
    {
     "data": {
      "text/plain": [
       "'F:\\\\Question-Answering-Project'"
      ]
     },
     "execution_count": 4,
     "metadata": {},
     "output_type": "execute_result"
    }
   ],
   "source": [
    "%pwd"
   ]
  },
  {
   "cell_type": "code",
   "execution_count": 5,
   "id": "6a1ca273-955d-4af5-99d8-febc5f94cf2a",
   "metadata": {},
   "outputs": [],
   "source": [
    "from dataclasses import dataclass\n",
    "from pathlib import Path\n",
    "\n",
    "\n",
    "@dataclass(frozen=True)\n",
    "class ModelEvaluationConfig:\n",
    "    root_dir: Path\n",
    "    data_path: Path\n",
    "    model_path: Path\n",
    "    tokenizer_path: Path\n",
    "    metric: str\n",
    "    metric_file_name: Path\n",
    "    "
   ]
  },
  {
   "cell_type": "code",
   "execution_count": 6,
   "id": "dae619b7-a54c-411c-9438-96906d624b49",
   "metadata": {},
   "outputs": [],
   "source": [
    "from Question_Answering.constants import *\n",
    "from Question_Answering.utils.common import read_yaml, create_directories"
   ]
  },
  {
   "cell_type": "code",
   "execution_count": 7,
   "id": "3443060e-2453-4ddb-8188-d9cfe6ebbd5a",
   "metadata": {},
   "outputs": [],
   "source": [
    "class ConfigurationManager:\n",
    "    def __init__(\n",
    "        self,\n",
    "        config_filepath = CONFIG_FILE_PATH,\n",
    "        params_filepath = PARAMS_FILE_PATH):\n",
    "\n",
    "        self.config = read_yaml(config_filepath)\n",
    "        self.params = read_yaml(params_filepath)\n",
    "\n",
    "        create_directories([self.config.artifacts_root])\n",
    "\n",
    "    def get_model_evaluation_config(self) -> ModelEvaluationConfig:\n",
    "        config = self.config.model_evaluation\n",
    "        params = self.params.EvaluationArguments\n",
    "        \n",
    "        create_directories([config.root_dir])\n",
    "\n",
    "        model_evaluation_config = ModelEvaluationConfig(\n",
    "            root_dir = config.root_dir,\n",
    "            data_path = config.data_path,\n",
    "            model_path = config.model_path,\n",
    "            tokenizer_path = config.tokenizer_path,\n",
    "            metric = params.metric,\n",
    "            metric_file_name = config.metric_file_name\n",
    "        )\n",
    "        return model_evaluation_config"
   ]
  },
  {
   "cell_type": "code",
   "execution_count": 8,
   "id": "3654d90d-4f64-4097-96b2-77248c684035",
   "metadata": {},
   "outputs": [
    {
     "name": "stderr",
     "output_type": "stream",
     "text": [
      "F:\\Question-Answering-Project\\venv\\lib\\site-packages\\tqdm\\auto.py:21: TqdmWarning: IProgress not found. Please update jupyter and ipywidgets. See https://ipywidgets.readthedocs.io/en/stable/user_install.html\n",
      "  from .autonotebook import tqdm as notebook_tqdm\n"
     ]
    },
    {
     "ename": "ModuleNotFoundError",
     "evalue": "No module named 'evaluate'",
     "output_type": "error",
     "traceback": [
      "\u001b[1;31m---------------------------------------------------------------------------\u001b[0m",
      "\u001b[1;31mModuleNotFoundError\u001b[0m                       Traceback (most recent call last)",
      "Cell \u001b[1;32mIn[8], line 6\u001b[0m\n\u001b[0;32m      4\u001b[0m \u001b[38;5;28;01mimport\u001b[39;00m \u001b[38;5;21;01mpandas\u001b[39;00m \u001b[38;5;28;01mas\u001b[39;00m \u001b[38;5;21;01mpd\u001b[39;00m\n\u001b[0;32m      5\u001b[0m \u001b[38;5;28;01mfrom\u001b[39;00m \u001b[38;5;21;01mtqdm\u001b[39;00m\u001b[38;5;21;01m.\u001b[39;00m\u001b[38;5;21;01mauto\u001b[39;00m \u001b[38;5;28;01mimport\u001b[39;00m tqdm\n\u001b[1;32m----> 6\u001b[0m \u001b[38;5;28;01mimport\u001b[39;00m \u001b[38;5;21;01mevaluate\u001b[39;00m\n\u001b[0;32m      7\u001b[0m \u001b[38;5;28;01mfrom\u001b[39;00m \u001b[38;5;21;01mQuestion_Answering\u001b[39;00m\u001b[38;5;21;01m.\u001b[39;00m\u001b[38;5;21;01mentity\u001b[39;00m \u001b[38;5;28;01mimport\u001b[39;00m ModelEvaluationConfig\n\u001b[0;32m      8\u001b[0m \u001b[38;5;28;01mfrom\u001b[39;00m \u001b[38;5;21;01mcollections\u001b[39;00m \u001b[38;5;28;01mimport\u001b[39;00m defaultdict\n",
      "\u001b[1;31mModuleNotFoundError\u001b[0m: No module named 'evaluate'"
     ]
    }
   ],
   "source": [
    "from transformers import AutoModelForQuestionAnswering, AutoTokenizer\n",
    "from datasets import load_dataset, load_from_disk, load_metric\n",
    "import torch\n",
    "import pandas as pd\n",
    "from tqdm.auto import tqdm\n",
    "import evaluate\n",
    "from Question_Answering.entity import ModelEvaluationConfig\n",
    "from collections import defaultdict\n",
    "import numpy as np\n",
    "from accelerate import Accelerator\n",
    "from transformers import default_data_collator\n",
    "from torch.utils.data import DataLoader"
   ]
  },
  {
   "cell_type": "code",
   "execution_count": 39,
   "id": "9a36cb40-3608-4aa1-bb9d-8c9daaf3777f",
   "metadata": {},
   "outputs": [],
   "source": [
    "class ModelEvaluation:\n",
    "    def __init__(self, config: ModelEvaluationConfig):\n",
    "        self.config = config\n",
    "        self.metric = evaluate.load(config.metric)\n",
    "\n",
    "    def compute_metrics(self, start_logits, end_logits, features, examples):\n",
    "        example_to_features = defaultdict(list)\n",
    "        for idx, feature in enumerate(features):\n",
    "            example_to_features[feature[\"example_id\"]].append(idx)\n",
    "\n",
    "        n_best = 20\n",
    "        max_answer_length = 30\n",
    "        predicted_answers = []\n",
    "        predicted_answers = []\n",
    "\n",
    "        for example in tqdm(examples):\n",
    "            example_id = example[\"id\"]\n",
    "            context = example[\"context\"]\n",
    "            answers = []\n",
    "\n",
    "            # Loop through all features associated with that example\n",
    "            for feature_index in example_to_features[example_id]:\n",
    "                start_logit = start_logits[feature_index]\n",
    "                end_logit = end_logits[feature_index]\n",
    "                offsets = features[feature_index][\"offset_mapping\"]\n",
    "\n",
    "                start_indexes = np.argsort(start_logit)[-1: -n_best - 1: -1].tolist()\n",
    "                end_indexes = np.argsort(end_logit)[-1: -n_best - 1: -1].tolist()\n",
    "                for start_index in start_indexes:\n",
    "                    for end_index in end_indexes:\n",
    "                        # Skip answers that are not fully in the context\n",
    "                        if offsets[start_index] is None or offsets[end_index] is None:\n",
    "                            continue\n",
    "                        # Skip answers with a length that is either < 0 or > max_answer_length\n",
    "                        if (\n",
    "                                end_index < start_index\n",
    "                                or end_index - start_index + 1 > max_answer_length\n",
    "                        ):\n",
    "                            continue\n",
    "\n",
    "                        answer = {\n",
    "                            \"text\": context[offsets[start_index][0]: offsets[end_index][1]],\n",
    "                            \"logit_score\": start_logit[start_index] + end_logit[end_index],\n",
    "                        }\n",
    "                        answers.append(answer)\n",
    "\n",
    "            # Select the answer with the best score\n",
    "            if len(answers) > 0:\n",
    "                best_answer = max(answers, key=lambda x: x[\"logit_score\"])\n",
    "                predicted_answers.append(\n",
    "                    {\"id\": example_id, \"prediction_text\": best_answer[\"text\"]}\n",
    "                )\n",
    "            else:\n",
    "                predicted_answers.append({\"id\": example_id, \"prediction_text\": \"\"})\n",
    "\n",
    "        theoretical_answers = [{\"id\": ex[\"id\"], \"answers\": ex[\"answers\"]} for ex in examples]\n",
    "        return self.metric.compute(predictions=predicted_answers, references=theoretical_answers)\n",
    "\n",
    "    def evaluate(self):\n",
    "        device = \"cuda\" if torch.cuda.is_available() else \"cpu\"\n",
    "        tokenizer = AutoTokenizer.from_pretrained(self.config.tokenizer_path)\n",
    "        model = AutoModelForQuestionAnswering.from_pretrained(self.config.model_path).to(device)\n",
    "\n",
    "        raw_datasets_validation_split = load_from_disk(\"artifacts/ingestion/validation\")\n",
    "        train_dataset = load_from_disk(self.config.train_data_path)\n",
    "        train_dataset.set_format(\"torch\")\n",
    "        valid_dataset = load_from_disk(self.config.valid_data_path)\n",
    "        valid_dataset.set_format(\"torch\")\n",
    "        train_dataloader = DataLoader(\n",
    "            train_dataset,\n",
    "            shuffle=True,\n",
    "            collate_fn=default_data_collator,\n",
    "            batch_size=8,\n",
    "        )\n",
    "        eval_dataloader = DataLoader(\n",
    "            valid_dataset,\n",
    "            shuffle=True,\n",
    "            collate_fn=default_data_collator,\n",
    "            batch_size=8,\n",
    "        )\n",
    "\n",
    "        accelerator = Accelerator()\n",
    "        model, optimizer, train_dataloader, eval_dataloader = accelerator.prepare(\n",
    "            model, optimizer, train_dataloader, eval_dataloader\n",
    "        )\n",
    "        model.eval()\n",
    "        start_logits = []\n",
    "        end_logits = []\n",
    "\n",
    "        for batch in tqdm(eval_dataloader):\n",
    "            batch = {k: v.to(device) for k, v in batch.items()}\n",
    "            with torch.no_grad():\n",
    "                outputs = model(**batch)\n",
    "\n",
    "            start_logits.append(outputs.start_logits)\n",
    "            end_logits.append(outputs.end_logits)\n",
    "        start_logits = np.concatenate(start_logits)\n",
    "        end_logits = np.concatenate(end_logits)\n",
    "        start_logits = start_logits[: len(valid_dataset)]\n",
    "        end_logits = end_logits[: len(valid_dataset)]\n",
    "\n",
    "        metrics = self.compute_metrics(\n",
    "            start_logits, end_logits, valid_dataset, raw_datasets_validation_split\n",
    "        )\n",
    "        print(metrics)\n"
   ]
  },
  {
   "cell_type": "code",
   "execution_count": 26,
   "id": "07eb6999-b858-439a-81a0-e093bb70c6c6",
   "metadata": {},
   "outputs": [
    {
     "name": "stdout",
     "output_type": "stream",
     "text": [
      "[2023-11-03 13:58:03,840: INFO: common: yaml file: config\\config.yaml loaded successfully]\n",
      "[2023-11-03 13:58:03,842: INFO: common: yaml file: params.yaml loaded successfully]\n",
      "[2023-11-03 13:58:03,843: INFO: common: created directory at: artifacts]\n",
      "[2023-11-03 13:58:03,844: INFO: common: created directory at: artifacts/model_evaluation]\n"
     ]
    },
    {
     "ename": "NameError",
     "evalue": "name 'model_validation_config' is not defined",
     "output_type": "error",
     "traceback": [
      "\u001b[1;31m---------------------------------------------------------------------------\u001b[0m",
      "\u001b[1;31mNameError\u001b[0m                                 Traceback (most recent call last)",
      "Cell \u001b[1;32mIn[26], line 7\u001b[0m\n\u001b[0;32m      5\u001b[0m     model_evaluation_config\u001b[38;5;241m.\u001b[39mevaluate()\n\u001b[0;32m      6\u001b[0m \u001b[38;5;28;01mexcept\u001b[39;00m \u001b[38;5;167;01mException\u001b[39;00m \u001b[38;5;28;01mas\u001b[39;00m e:\n\u001b[1;32m----> 7\u001b[0m     \u001b[38;5;28;01mraise\u001b[39;00m e\n",
      "Cell \u001b[1;32mIn[26], line 3\u001b[0m\n\u001b[0;32m      1\u001b[0m \u001b[38;5;28;01mtry\u001b[39;00m:\n\u001b[0;32m      2\u001b[0m     config \u001b[38;5;241m=\u001b[39m ConfigurationManager()\n\u001b[1;32m----> 3\u001b[0m     model_evaluation_config \u001b[38;5;241m=\u001b[39m \u001b[43mconfig\u001b[49m\u001b[38;5;241;43m.\u001b[39;49m\u001b[43mget_model_evaluation_config\u001b[49m\u001b[43m(\u001b[49m\u001b[43m)\u001b[49m\n\u001b[0;32m      4\u001b[0m     model_evaluation_config \u001b[38;5;241m=\u001b[39m ModelEvaluation(config\u001b[38;5;241m=\u001b[39mmodel_evaluation_config)\n\u001b[0;32m      5\u001b[0m     model_evaluation_config\u001b[38;5;241m.\u001b[39mevaluate()\n",
      "Cell \u001b[1;32mIn[23], line 24\u001b[0m, in \u001b[0;36mConfigurationManager.get_model_evaluation_config\u001b[1;34m(self)\u001b[0m\n\u001b[0;32m     15\u001b[0m create_directories([config\u001b[38;5;241m.\u001b[39mroot_dir])\n\u001b[0;32m     17\u001b[0m model_evaluation_config \u001b[38;5;241m=\u001b[39m ModelEvaluationConfig(\n\u001b[0;32m     18\u001b[0m     root_dir \u001b[38;5;241m=\u001b[39m config\u001b[38;5;241m.\u001b[39mroot_dir,\n\u001b[0;32m     19\u001b[0m     data_path \u001b[38;5;241m=\u001b[39m config\u001b[38;5;241m.\u001b[39mdata_path,\n\u001b[1;32m   (...)\u001b[0m\n\u001b[0;32m     22\u001b[0m     metric_file_name \u001b[38;5;241m=\u001b[39m config\u001b[38;5;241m.\u001b[39mmetric_file_name\n\u001b[0;32m     23\u001b[0m )\n\u001b[1;32m---> 24\u001b[0m \u001b[38;5;28;01mreturn\u001b[39;00m \u001b[43mmodel_validation_config\u001b[49m\n",
      "\u001b[1;31mNameError\u001b[0m: name 'model_validation_config' is not defined"
     ]
    }
   ],
   "source": [
    "try:\n",
    "    config = ConfigurationManager()\n",
    "    model_evaluation_config = config.get_model_evaluation_config()\n",
    "    model_evaluation_config = ModelEvaluation(config=model_evaluation_config)\n",
    "    model_evaluation_config.evaluate()\n",
    "except Exception as e:\n",
    "    raise e"
   ]
  },
  {
   "cell_type": "code",
   "execution_count": 9,
   "id": "0c58837d-dd19-4032-ae02-1dbbb43bef89",
   "metadata": {
    "scrolled": true
   },
   "outputs": [],
   "source": [
    "from safetensors.torch import load_model, save_model"
   ]
  },
  {
   "cell_type": "code",
   "execution_count": 15,
   "id": "cafd4fe1-9b2b-4842-a28a-2543f55aa7f7",
   "metadata": {},
   "outputs": [],
   "source": [
    "finetuned_model = load_model(model, \"artifacts/model_trainer/model.safetensors\")"
   ]
  },
  {
   "cell_type": "code",
   "execution_count": 14,
   "id": "5413db66-daa3-4a3e-b3fc-276cd36c750b",
   "metadata": {},
   "outputs": [
    {
     "name": "stderr",
     "output_type": "stream",
     "text": [
      "Downloading model.safetensors: 100%|█████████████████████████████████████████████████████████████████████████████████████████| 436M/436M [02:45<00:00, 2.63MB/s]\n",
      "F:\\Question-Answering-Project\\venv\\lib\\site-packages\\huggingface_hub\\file_download.py:137: UserWarning: `huggingface_hub` cache-system uses symlinks by default to efficiently store duplicated files but your machine does not support them in C:\\Users\\Dell\\.cache\\huggingface\\hub. Caching files will still work but in a degraded version that might require more space on your disk. This warning can be disabled by setting the `HF_HUB_DISABLE_SYMLINKS_WARNING` environment variable. For more details, see https://huggingface.co/docs/huggingface_hub/how-to-cache#limitations.\n",
      "To support symlinks on Windows, you either need to activate Developer Mode or to run Python as an administrator. In order to see activate developer mode, see this article: https://docs.microsoft.com/en-us/windows/apps/get-started/enable-your-device-for-development\n",
      "  warnings.warn(message)\n",
      "Some weights of BertForQuestionAnswering were not initialized from the model checkpoint at bert-base-cased and are newly initialized: ['qa_outputs.weight', 'qa_outputs.bias']\n",
      "You should probably TRAIN this model on a down-stream task to be able to use it for predictions and inference.\n"
     ]
    }
   ],
   "source": [
    "model = AutoModelForQuestionAnswering.from_pretrained(\"bert-base-cased\")"
   ]
  },
  {
   "cell_type": "code",
   "execution_count": 27,
   "id": "875ead30-7ed4-499a-b20d-744ff16666a0",
   "metadata": {},
   "outputs": [
    {
     "name": "stderr",
     "output_type": "stream",
     "text": [
      "Some weights of BertModel were not initialized from the model checkpoint at artifacts/model_trainer/model.safetensors and are newly initialized: ['bert.pooler.dense.bias', 'bert.pooler.dense.weight']\n",
      "You should probably TRAIN this model on a down-stream task to be able to use it for predictions and inference.\n"
     ]
    }
   ],
   "source": [
    "from transformers import BertConfig, BertModel\n",
    "config = BertConfig.from_json_file(\"artifacts/model_trainer/config.json\")\n",
    "model = BertModel.from_pretrained(\"artifacts/model_trainer/model.safetensors\", config = config )"
   ]
  },
  {
   "cell_type": "code",
   "execution_count": 34,
   "id": "096b8e10-c61a-414f-9234-9f108a720d46",
   "metadata": {},
   "outputs": [
    {
     "name": "stdout",
     "output_type": "stream",
     "text": [
      "added_tokens_decoder\n",
      "clean_up_tokenization_spaces\n",
      "cls_token\n",
      "do_lower_case\n",
      "mask_token\n",
      "model_max_length\n",
      "pad_token\n",
      "sep_token\n",
      "strip_accents\n",
      "tokenize_chinese_chars\n",
      "tokenizer_class\n",
      "unk_token\n"
     ]
    }
   ],
   "source": [
    "\n",
    "# Python program to read\n",
    "# json file\n",
    " \n",
    "import json\n",
    " \n",
    "# Opening JSON file\n",
    "f = open('artifacts/model_trainer/tokenizer_config.json')\n",
    " \n",
    "# returns JSON object as \n",
    "# a dictionary\n",
    "data = json.load(f)\n",
    " \n",
    "# Iterating through the json\n",
    "# list\n",
    "for i in data.keys():\n",
    "    print(i)\n",
    " \n",
    "# Closing file\n",
    "f.close()"
   ]
  },
  {
   "cell_type": "code",
   "execution_count": 47,
   "id": "346fe1b0-caab-41e5-8afc-3cb9fd3dcf87",
   "metadata": {},
   "outputs": [],
   "source": [
    "from transformers import AutoModelForQuestionAnswering, AutoTokenizer\n",
    "from datasets import load_dataset, load_from_disk, load_metric\n",
    "import torch\n",
    "import pandas as pd\n",
    "from tqdm.auto import tqdm\n",
    "import evaluate\n",
    "from Question_Answering.entity import ModelEvaluationConfig\n",
    "from collections import defaultdict\n",
    "import numpy as np\n",
    "from accelerate import Accelerator\n",
    "from transformers import default_data_collator\n",
    "from torch.utils.data import DataLoader\n",
    "from transformers import BertConfig, BertModel\n",
    "from torch.optim import AdamW"
   ]
  },
  {
   "cell_type": "code",
   "execution_count": 70,
   "id": "3318ab74-0e02-434a-b011-8e81a3d698c5",
   "metadata": {},
   "outputs": [
    {
     "name": "stderr",
     "output_type": "stream",
     "text": [
      "Some weights of BertModel were not initialized from the model checkpoint at artifacts/model_trainer/model.safetensors and are newly initialized: ['bert.pooler.dense.bias', 'bert.pooler.dense.weight']\n",
      "You should probably TRAIN this model on a down-stream task to be able to use it for predictions and inference.\n"
     ]
    }
   ],
   "source": [
    "device = \"cuda\" if torch.cuda.is_available() else \"cpu\"\n",
    "tokenizer = AutoTokenizer.from_pretrained(\"bert-base-cased\")\n",
    "finetuned_config = BertConfig.from_json_file(\"artifacts/model_trainer/config.json\")\n",
    "model = BertModel.from_pretrained(\"artifacts/model_trainer/model.safetensors\", config=finetuned_config).to(device)\n",
    "\n",
    "raw_datasets_validation_split = load_from_disk(\"artifacts/data_ingestion/validation\")\n",
    "\n",
    "valid_dataset = load_from_disk(\"artifacts/data_transformation/validation_dataset\")\n",
    "valid_dataset = valid_dataset.remove_columns([\"example_id\",\"offset_mapping\"])\n",
    "valid_dataset.set_format(\"torch\")\n",
    "\n",
    "eval_dataloader = DataLoader(\n",
    "    valid_dataset,\n",
    "    shuffle=True,\n",
    "    batch_size=8,\n",
    ")\n"
   ]
  },
  {
   "cell_type": "code",
   "execution_count": 50,
   "id": "2844cd97-fa97-4fb6-9f9c-c11ee8627fdd",
   "metadata": {},
   "outputs": [
    {
     "data": {
      "text/plain": [
       "<torch.utils.data.dataloader.DataLoader at 0x201078bbdf0>"
      ]
     },
     "execution_count": 50,
     "metadata": {},
     "output_type": "execute_result"
    }
   ],
   "source": [
    "eval_dataloader"
   ]
  },
  {
   "cell_type": "code",
   "execution_count": 55,
   "id": "c12656bc-a965-497c-8567-72920fcb324f",
   "metadata": {},
   "outputs": [
    {
     "data": {
      "text/plain": [
       "['input_ids',\n",
       " 'token_type_ids',\n",
       " 'attention_mask',\n",
       " 'offset_mapping',\n",
       " 'example_id']"
      ]
     },
     "execution_count": 55,
     "metadata": {},
     "output_type": "execute_result"
    }
   ],
   "source": [
    "valid_dataset.column_names"
   ]
  },
  {
   "cell_type": "code",
   "execution_count": 56,
   "id": "d06067f1-40ef-4bb1-b01e-5f185bfbdebf",
   "metadata": {},
   "outputs": [],
   "source": [
    "raw_datasets_validation_split = load_from_disk(\"artifacts/data_ingestion/validation\")"
   ]
  },
  {
   "cell_type": "code",
   "execution_count": 57,
   "id": "3f68bc49-f836-446d-bff6-f09c4e7e3911",
   "metadata": {},
   "outputs": [
    {
     "data": {
      "text/plain": [
       "['id', 'title', 'context', 'question', 'answers']"
      ]
     },
     "execution_count": 57,
     "metadata": {},
     "output_type": "execute_result"
    }
   ],
   "source": [
    "raw_datasets_validation_split.column_names"
   ]
  },
  {
   "cell_type": "code",
   "execution_count": 59,
   "id": "22e9c0d2-df9d-4088-94e8-23cf7a6a2a3f",
   "metadata": {},
   "outputs": [],
   "source": [
    "from tqdm.auto import tqdm\n",
    "import numpy as np\n",
    "\n",
    "def compute_metrics(start_logits, end_logits, features, examples):\n",
    "    example_to_features = collections.defaultdict(list)\n",
    "    for idx, feature in enumerate(features):\n",
    "        example_to_features[feature[\"example_id\"]].append(idx)\n",
    "\n",
    "    predicted_answers = []\n",
    "    for example in tqdm(examples):\n",
    "        example_id = example[\"id\"]\n",
    "        context = example[\"context\"]\n",
    "        answers = []\n",
    "\n",
    "        # Loop through all features associated with that example\n",
    "        for feature_index in example_to_features[example_id]:\n",
    "            start_logit = start_logits[feature_index]\n",
    "            end_logit = end_logits[feature_index]\n",
    "            offsets = features[feature_index][\"offset_mapping\"]\n",
    "\n",
    "            start_indexes = np.argsort(start_logit)[-1 : -n_best - 1 : -1].tolist()\n",
    "            end_indexes = np.argsort(end_logit)[-1 : -n_best - 1 : -1].tolist()\n",
    "            for start_index in start_indexes:\n",
    "                for end_index in end_indexes:\n",
    "                    # Skip answers that are not fully in the context\n",
    "                    if offsets[start_index] is None or offsets[end_index] is None:\n",
    "                        continue\n",
    "                    # Skip answers with a length that is either < 0 or > max_answer_length\n",
    "                    if (\n",
    "                        end_index < start_index\n",
    "                        or end_index - start_index + 1 > max_answer_length\n",
    "                    ):\n",
    "                        continue\n",
    "\n",
    "                    answer = {\n",
    "                        \"text\": context[offsets[start_index][0] : offsets[end_index][1]],\n",
    "                        \"logit_score\": start_logit[start_index] + end_logit[end_index],\n",
    "                    }\n",
    "                    answers.append(answer)\n",
    "\n",
    "        # Select the answer with the best score\n",
    "        if len(answers) > 0:\n",
    "            best_answer = max(answers, key=lambda x: x[\"logit_score\"])\n",
    "            predicted_answers.append(\n",
    "                {\"id\": example_id, \"prediction_text\": best_answer[\"text\"]}\n",
    "            )\n",
    "        else:\n",
    "            predicted_answers.append({\"id\": example_id, \"prediction_text\": \"\"})\n",
    "\n",
    "    theoretical_answers = [{\"id\": ex[\"id\"], \"answers\": ex[\"answers\"]} for ex in examples]\n",
    "    return metric.compute(predictions=predicted_answers, references=theoretical_answers)"
   ]
  },
  {
   "cell_type": "code",
   "execution_count": 60,
   "id": "8c0bd556-9958-46f4-8661-36b66f884052",
   "metadata": {},
   "outputs": [
    {
     "name": "stderr",
     "output_type": "stream",
     "text": [
      "Downloading builder script: 100%|███████████████████████████████████████████████████████████████████████████████████████████| 4.53k/4.53k [00:00<00:00, 129kB/s]\n",
      "Downloading extra modules: 100%|███████████████████████████████████████████████████████████████████████████████████████████████████| 3.32k/3.32k [00:00<?, ?B/s]\n"
     ]
    }
   ],
   "source": [
    "metric = evaluate.load(\"squad\")"
   ]
  },
  {
   "cell_type": "code",
   "execution_count": null,
   "id": "089b6190-d279-4772-b34e-53100f577972",
   "metadata": {},
   "outputs": [],
   "source": [
    "\"\"\"model.eval()\n",
    "start_logits = []\n",
    "end_logits = []\n",
    "\n",
    "for batch in tqdm(eval_dataloader):\n",
    "    batch = {k: v.to(device) for k, v in batch.items()}\n",
    "    with torch.no_grad():\n",
    "        outputs = model(**batch)\n",
    "\n",
    "    \"\"\""
   ]
  },
  {
   "cell_type": "code",
   "execution_count": 67,
   "id": "11a42cfb-f766-4a9d-9e7d-24747ee6ca91",
   "metadata": {},
   "outputs": [],
   "source": [
    "from accelerate import Accelerator\n",
    "accelerator = Accelerator()"
   ]
  },
  {
   "cell_type": "code",
   "execution_count": null,
   "id": "d70a1443-b4c6-48d6-9187-e965bb4f88a1",
   "metadata": {},
   "outputs": [],
   "source": []
  }
 ],
 "metadata": {
  "kernelspec": {
   "display_name": "Python 3 (ipykernel)",
   "language": "python",
   "name": "python3"
  },
  "language_info": {
   "codemirror_mode": {
    "name": "ipython",
    "version": 3
   },
   "file_extension": ".py",
   "mimetype": "text/x-python",
   "name": "python",
   "nbconvert_exporter": "python",
   "pygments_lexer": "ipython3",
   "version": "3.9.13"
  }
 },
 "nbformat": 4,
 "nbformat_minor": 5
}
