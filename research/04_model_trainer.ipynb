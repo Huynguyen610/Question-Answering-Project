{
 "cells": [
  {
   "cell_type": "code",
   "execution_count": 1,
   "id": "6f45ba08-5fba-4567-aed3-ef7ed0092f01",
   "metadata": {},
   "outputs": [],
   "source": [
    "import os"
   ]
  },
  {
   "cell_type": "code",
   "execution_count": 2,
   "id": "216b28a4-2c3c-4dbd-b381-45ce41cf6783",
   "metadata": {},
   "outputs": [
    {
     "data": {
      "text/plain": [
       "'F:\\\\Question-Answering-Project\\\\research'"
      ]
     },
     "execution_count": 2,
     "metadata": {},
     "output_type": "execute_result"
    }
   ],
   "source": [
    "%pwd"
   ]
  },
  {
   "cell_type": "code",
   "execution_count": 3,
   "id": "36ce3c8a-ac5c-46f8-b512-1241637087fd",
   "metadata": {},
   "outputs": [],
   "source": [
    "os.chdir(\"../\")"
   ]
  },
  {
   "cell_type": "code",
   "execution_count": 4,
   "id": "3acdef1d-3bb9-4193-8e61-5f9b108f19ba",
   "metadata": {},
   "outputs": [
    {
     "data": {
      "text/plain": [
       "'F:\\\\Question-Answering-Project'"
      ]
     },
     "execution_count": 4,
     "metadata": {},
     "output_type": "execute_result"
    }
   ],
   "source": [
    "%pwd"
   ]
  },
  {
   "cell_type": "code",
   "execution_count": 5,
   "id": "e4ee142a-b478-4365-a8d7-11adabd99d98",
   "metadata": {},
   "outputs": [],
   "source": [
    "from dataclasses import dataclass\n",
    "from pathlib import Path\n",
    "\n",
    "\n",
    "@dataclass(frozen=True)\n",
    "class ModelTrainerConfig:\n",
    "    root_dir: Path\n",
    "    data_path: Path\n",
    "    model_checkpoint: Path\n",
    "    evaluation_strategy: str\n",
    "    save_strategy: str\n",
    "    num_train_epochs: int\n",
    "    num_update_step_per_epoch: int\n",
    "    batch_size: int \n",
    "    num_warmup_steps: int\n",
    "    logging_steps: int"
   ]
  },
  {
   "cell_type": "code",
   "execution_count": 6,
   "id": "30c72e98-d516-493c-a538-baeed1e7d870",
   "metadata": {},
   "outputs": [],
   "source": [
    "from Question_Answering.constants import *\n",
    "from Question_Answering.utils.common import read_yaml, create_directories"
   ]
  },
  {
   "cell_type": "code",
   "execution_count": 9,
   "id": "320b7fd7-b7d5-42ca-bafb-a17da702bbd5",
   "metadata": {},
   "outputs": [],
   "source": [
    "class ConfigurationManager:\n",
    "    def __init__(\n",
    "        self,\n",
    "        config_filepath = CONFIG_FILE_PATH,\n",
    "        params_filepath = PARAMS_FILE_PATH):\n",
    "\n",
    "        self.config = read_yaml(config_filepath)\n",
    "        self.params = read_yaml(params_filepath)\n",
    "\n",
    "        create_directories([self.config.artifacts_root])\n",
    "\n",
    "    def get_model_trainer_config(self) -> ModelTrainerConfig:\n",
    "        config = self.config.model_trainer\n",
    "        params = self.params.TrainingArguments\n",
    "        \n",
    "        create_directories([config.root_dir])\n",
    "\n",
    "        model_trainer_config = ModelTrainerConfig(\n",
    "            root_dir = config.root_dir,\n",
    "            data_path = config.data_path,\n",
    "            model_checkpoint = config. model_checkpoint,\n",
    "            evaluation_strategy = config.evaluation_strategy,\n",
    "            save_strategy = config.save_strategy,\n",
    "            num_train_epochs = config.num_train_epochs,\n",
    "            num_update_step_per_epoch = config.num_update_step_per_epoch,\n",
    "            batch_size = config.batch_size,\n",
    "            num_warmup_steps = config.num_warmup_steps,\n",
    "            logging_steps = config.logging_steps\n",
    "        )\n",
    "        return model_trainer_config"
   ]
  },
  {
   "cell_type": "code",
   "execution_count": null,
   "id": "cd4ede40-ebab-4350-81e7-15a2c0b82f6c",
   "metadata": {},
   "outputs": [],
   "source": [
    "from transformers import TrainingArguments, Trainer\n",
    "from transformers import default_data_collator\n",
    "from transformers import AutoModelForQuestionAnswering, AutoTokenizer\n",
    "from datasets import load_dataset, load_from_disk\n",
    "import torch\n",
    "from torch.utils.data import DataLoader\n",
    "from torch.optim import AdamW\n",
    "from accelerate import Accelerator\n",
    "from transformers import get_scheduler\n",
    "from tqdm.auto import tqdm"
   ]
  },
  {
   "cell_type": "code",
   "execution_count": null,
   "id": "f33d2f7b-0ae1-433f-bb8e-7b63d533e8b4",
   "metadata": {},
   "outputs": [],
   "source": [
    "class ModelTrainer:\n",
    "    def __init__(self, config: ModelTrainerConfig):\n",
    "        self.config = config\n",
    "\n",
    "     def train(self):\n",
    "        train_dataset = datasets.load_from_disk(self.config.train_data_path)\n",
    "        train_dataset.set_format(\"torch\")\n",
    "\n",
    "        train_dataloader = DataLoader(\n",
    "            train_dataset,\n",
    "            shuffle=True,\n",
    "            collate_fn=default_data_collator,\n",
    "            batch_size=self.config.batch_size,\n",
    "            )\n",
    "\n",
    "\n",
    "        model = AutoModelForQuestionAnswering.from_pretrained(self.config.model_checkpoint)\n",
    "        optimizer = AdamW(model.parameters(), lr =2e-5)\n",
    "        accelerator = Accelerator(fp16=True)\n",
    "        model, optimizer, train_dataloader = accelerator.prepare(\n",
    "            model, optimizer, train_dataloader)\n",
    "         \n",
    "        num_train_epochs = self.config.num_train_epochs\n",
    "        num_update_steps_per_epoch = len(train_dataloader)\n",
    "        num_training_steps = num_train_epochs * num_update_steps_per_epoch\n",
    "\n",
    "        lr_scheduler = get_scheduler(\n",
    "            \"linear\",\n",
    "            optimizer=optimizer,\n",
    "            num_warmup_steps=self.config.num_warmup_steps,\n",
    "            num_training_steps=num_training_steps,\n",
    "        )\n",
    "\n",
    "        for epoch in range(num_train_epochs):\n",
    "            # Training\n",
    "            model.train()\n",
    "            for step, batch in enumerate(train_dataloader):\n",
    "                outputs = model(**batch)\n",
    "                loss = outputs.loss\n",
    "                accelerator.backward(loss)\n",
    "\n",
    "                optimizer.step()\n",
    "                lr_scheduler.step()\n",
    "                optimizer.zero_grad()\n",
    "                progress_bar.update(1)\n",
    "            unwrapped_model = accelerator.unwrap_model(model)\n",
    "            unwrapped_model.save_pretrained(self.config.root_dir,\"Question-Answering-model\", save_function=accelerator.save)\n",
    "            if accelerator.is_main_process:\n",
    "                tokenizer.save_pretrained(self.config.root_dir,\"tokenizer\")"
   ]
  },
  {
   "cell_type": "code",
   "execution_count": null,
   "id": "df46d915-8860-44e3-9be8-6db13fc1e160",
   "metadata": {},
   "outputs": [],
   "source": [
    "try:\n",
    "    config = ConfigurationManager()\n",
    "    model_trainer_config = config.get_model_trainer_config()\n",
    "    model_trainer_config = ModelTrainer(config=model_trainer_config)\n",
    "    model_trainer_config.train()\n",
    "except Exception as e:\n",
    "    raise e"
   ]
  }
 ],
 "metadata": {
  "kernelspec": {
   "display_name": "Python 3 (ipykernel)",
   "language": "python",
   "name": "python3"
  },
  "language_info": {
   "codemirror_mode": {
    "name": "ipython",
    "version": 3
   },
   "file_extension": ".py",
   "mimetype": "text/x-python",
   "name": "python",
   "nbconvert_exporter": "python",
   "pygments_lexer": "ipython3",
   "version": "3.9.13"
  }
 },
 "nbformat": 4,
 "nbformat_minor": 5
}
