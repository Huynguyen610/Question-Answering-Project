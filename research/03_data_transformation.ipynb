{
 "cells": [
  {
   "cell_type": "code",
   "execution_count": 1,
   "id": "2e4d5402-257d-48fd-96ac-01f700eb0af1",
   "metadata": {},
   "outputs": [],
   "source": [
    "import os"
   ]
  },
  {
   "cell_type": "code",
   "execution_count": 2,
   "id": "4970c494-9443-45c5-a56c-31d9de9bc930",
   "metadata": {},
   "outputs": [
    {
     "data": {
      "text/plain": [
       "'F:\\\\Question-Answering-Project\\\\research'"
      ]
     },
     "execution_count": 2,
     "metadata": {},
     "output_type": "execute_result"
    }
   ],
   "source": [
    "%pwd"
   ]
  },
  {
   "cell_type": "code",
   "execution_count": 3,
   "id": "3054b7d0-fc8f-4bb8-8de9-c3be760c9302",
   "metadata": {},
   "outputs": [],
   "source": [
    "os.chdir(\"../\")"
   ]
  },
  {
   "cell_type": "code",
   "execution_count": 4,
   "id": "7a70c82b-dbec-4f02-8130-772316452f5e",
   "metadata": {},
   "outputs": [
    {
     "data": {
      "text/plain": [
       "'F:\\\\Question-Answering-Project'"
      ]
     },
     "execution_count": 4,
     "metadata": {},
     "output_type": "execute_result"
    }
   ],
   "source": [
    "%pwd"
   ]
  },
  {
   "cell_type": "code",
   "execution_count": 5,
   "id": "8cf41c7a-75d6-46ba-8dad-9518a1fd2928",
   "metadata": {},
   "outputs": [],
   "source": [
    "from dataclasses import dataclass\n",
    "from pathlib import Path\n",
    "\n",
    "\n",
    "@dataclass(frozen=True)\n",
    "class DataTransformationConfig:\n",
    "    root_dir: Path\n",
    "    train_data_path: Path\n",
    "    valid_data_path: Path\n",
    "    tokenizer_name: Path"
   ]
  },
  {
   "cell_type": "code",
   "execution_count": 6,
   "id": "4fe42006-7e9b-409a-bcca-f870327d4e12",
   "metadata": {},
   "outputs": [],
   "source": [
    "from Question_Answering.constants import *\n",
    "from Question_Answering.utils.common import read_yaml, create_directories"
   ]
  },
  {
   "cell_type": "code",
   "execution_count": 7,
   "id": "feb0495c-33c4-4044-ab87-f6982eb16267",
   "metadata": {},
   "outputs": [],
   "source": [
    "class ConfigurationManager:\n",
    "    def __init__(\n",
    "        self,\n",
    "        config_filepath = CONFIG_FILE_PATH,\n",
    "        params_filepath = PARAMS_FILE_PATH):\n",
    "\n",
    "        self.config = read_yaml(config_filepath)\n",
    "        self.params = read_yaml(params_filepath)\n",
    "\n",
    "        create_directories([self.config.artifacts_root])\n",
    "\n",
    "\n",
    "    \n",
    "    def get_data_transformation_config(self) -> DataTransformationConfig:\n",
    "        config = self.config.data_transformation\n",
    "\n",
    "        create_directories([config.root_dir])\n",
    "\n",
    "        data_transformation_config = DataTransformationConfig(\n",
    "            root_dir=config.root_dir,\n",
    "            train_data_path = config.train_data_path,\n",
    "            valid_data_path = config.valid_data_path,\n",
    "            tokenizer_name = config.tokenizer_name\n",
    "        )\n",
    "\n",
    "        return data_transformation_config"
   ]
  },
  {
   "cell_type": "code",
   "execution_count": 8,
   "id": "b3624f88-54d9-4991-8279-e0237bd9a62b",
   "metadata": {},
   "outputs": [
    {
     "name": "stderr",
     "output_type": "stream",
     "text": [
      "F:\\Question-Answering-Project\\venv\\lib\\site-packages\\tqdm\\auto.py:21: TqdmWarning: IProgress not found. Please update jupyter and ipywidgets. See https://ipywidgets.readthedocs.io/en/stable/user_install.html\n",
      "  from .autonotebook import tqdm as notebook_tqdm\n"
     ]
    }
   ],
   "source": [
    "import os\n",
    "from Question_Answering.logging import logger\n",
    "from transformers import AutoTokenizer\n",
    "from datasets import load_dataset, load_from_disk"
   ]
  },
  {
   "cell_type": "code",
   "execution_count": 103,
   "id": "bed2bdda-2068-4c9e-8eff-355168f700b3",
   "metadata": {},
   "outputs": [],
   "source": [
    "class DataTransformation:\n",
    "    def __init__(self, config: DataTransformationConfig):\n",
    "        self.config = config\n",
    "        self.tokenizer = AutoTokenizer.from_pretrained(config.tokenizer_name)\n",
    "        self.max_length = MAX_LENGTH\n",
    "        self.stride = STRIDE\n",
    "\n",
    "    def preprocess_training_data(self, examples):\n",
    "        questions = [q.strip() for q in examples[\"question\"]]\n",
    "        inputs = self.tokenizer(\n",
    "            questions,\n",
    "            examples[\"context\"],\n",
    "            max_length=self.max_length,\n",
    "            truncation=\"only_second\",\n",
    "            stride=self.stride,\n",
    "            return_overflowing_tokens=True,\n",
    "            return_offsets_mapping=True,\n",
    "            padding=\"max_length\",\n",
    "        )\n",
    "        offset_mapping = inputs.pop(\"offset_mapping\")\n",
    "        sample_map = inputs.pop(\"overflow_to_sample_mapping\")\n",
    "        answers = examples[\"answers\"]\n",
    "        start_positions = []\n",
    "        end_positions = []\n",
    "\n",
    "        for i, offset in enumerate(offset_mapping):\n",
    "            sample_idx = sample_map[i]\n",
    "            answer = answers[sample_idx]\n",
    "            start_char = answer[\"answer_start\"][0]\n",
    "            end_char = answer[\"answer_start\"][0] + len(answer[\"text\"][0])\n",
    "            sequence_ids = inputs.sequence_ids(i)\n",
    "\n",
    "            # Find the start and end of the context\n",
    "            idx = 0\n",
    "            while sequence_ids[idx] != 1:\n",
    "                idx += 1\n",
    "            context_start = idx\n",
    "            while sequence_ids[idx] == 1:\n",
    "                idx += 1\n",
    "            context_end = idx - 1\n",
    "\n",
    "            # If the answer is not fully inside the context, label is (0, 0)\n",
    "            if offset[context_start][0] > start_char or offset[context_end][1] < end_char:\n",
    "                start_positions.append(0)\n",
    "                end_positions.append(0)\n",
    "            else:\n",
    "                # Otherwise it's the start and end token positions\n",
    "                idx = context_start\n",
    "                while idx <= context_end and offset[idx][0] <= start_char:\n",
    "                    idx += 1\n",
    "                start_positions.append(idx - 1)\n",
    "\n",
    "                idx = context_end\n",
    "                while idx >= context_start and offset[idx][1] >= end_char:\n",
    "                    idx -= 1\n",
    "                end_positions.append(idx + 1)\n",
    "\n",
    "            inputs[\"start_positions\"] = start_positions\n",
    "            inputs[\"end_positions\"] = end_positions\n",
    "    \n",
    "        return {\n",
    "            'input_ids' : inputs['input_ids'],\n",
    "            'token_type_ids' : inputs['token_type_ids'],\n",
    "            'attention_mask': inputs['attention_mask'],\n",
    "            'start_positions': inputs[\"start_positions\"],\n",
    "            'end_positions': inputs[\"end_positions\"]\n",
    "        }\n",
    "    \n",
    "\n",
    "    def preprocess_validation_data(self, examples):\n",
    "        questions = [q.strip() for q in examples[\"question\"]]\n",
    "        inputs = self.tokenizer(\n",
    "            questions,\n",
    "            examples[\"context\"],\n",
    "            max_length=self.max_length,\n",
    "            truncation=\"only_second\",\n",
    "            stride=self.stride,\n",
    "            return_overflowing_tokens=True,\n",
    "            return_offsets_mapping=True,\n",
    "            padding=\"max_length\",\n",
    "        )\n",
    "\n",
    "        sample_map = inputs.pop(\"overflow_to_sample_mapping\")\n",
    "        example_ids = []\n",
    "\n",
    "        for i in range(len(inputs[\"input_ids\"])):\n",
    "            sample_idx = sample_map[i]\n",
    "            example_ids.append(examples[\"id\"][sample_idx])\n",
    "\n",
    "            sequence_ids = inputs.sequence_ids(i)\n",
    "            offset = inputs[\"offset_mapping\"][i]\n",
    "            inputs[\"offset_mapping\"][i] = [\n",
    "                o if sequence_ids[k] == 1 else None for k, o in enumerate(offset)\n",
    "            ]\n",
    "\n",
    "        inputs[\"example_id\"] = example_ids\n",
    "        return {\n",
    "            'input_ids' : inputs['input_ids'],\n",
    "            'token_type_ids' : inputs['token_type_ids'],\n",
    "            'attention_mask': inputs['attention_mask'],\n",
    "            'offset_mapping': inputs[\"offset_mapping\"],\n",
    "            'example_id': inputs[\"example_id\"]\n",
    "        }\n",
    "\n",
    "    def convert(self):\n",
    "        train_dataset = load_from_disk(self.config.train_data_path)\n",
    "        preprocessed_train_dataset = train_dataset.map(self.preprocess_training_data, batched = True, remove_columns=train_dataset.column_names)\n",
    "        preprocessed_train_dataset.save_to_disk(os.path.join(self.config.root_dir,\"train_dataset\"))\n",
    "        valid_dataset = load_from_disk(self.config.valid_data_path)\n",
    "        preprocessed_valid_dataset = valid_dataset.map(self.preprocess_validation_data, batched = True, remove_columns=valid_dataset.column_names)\n",
    "        preprocessed_valid_dataset.save_to_disk(os.path.join(self.config.root_dir,\"validation_dataset\"))\n",
    "        "
   ]
  },
  {
   "cell_type": "code",
   "execution_count": 95,
   "id": "d82f233e-541e-4a85-b1ee-d2aa3cecbba5",
   "metadata": {},
   "outputs": [
    {
     "name": "stdout",
     "output_type": "stream",
     "text": [
      "[2023-11-02 22:23:39,408: INFO: common: yaml file: config\\config.yaml loaded successfully]\n",
      "[2023-11-02 22:23:39,411: INFO: common: yaml file: params.yaml loaded successfully]\n",
      "[2023-11-02 22:23:39,413: INFO: common: created directory at: artifacts]\n",
      "[2023-11-02 22:23:39,416: INFO: common: created directory at: artifacts/data_transformation]\n"
     ]
    },
    {
     "name": "stderr",
     "output_type": "stream",
     "text": [
      "Map: 100%|███████████████████████████████████████████████████████████████████████████████████████████████████████| 87599/87599 [00:46<00:00, 1889.89 examples/s]\n",
      "Saving the dataset (1/1 shards): 100%|██████████████████████████████████████████████████████████████████████████| 88729/88729 [00:02<00:00, 44116.21 examples/s]\n",
      "Map: 100%|███████████████████████████████████████████████████████████████████████████████████████████████████████| 10570/10570 [00:08<00:00, 1234.25 examples/s]\n",
      "Saving the dataset (1/1 shards): 100%|██████████████████████████████████████████████████████████████████████████| 10822/10822 [00:00<00:00, 23539.77 examples/s]\n"
     ]
    }
   ],
   "source": [
    "try:\n",
    "    config = ConfigurationManager()\n",
    "    data_transformation_config = config.get_data_transformation_config()\n",
    "    data_transformation = DataTransformation(config=data_transformation_config)\n",
    "    data_transformation.convert()\n",
    "except Exception as e:\n",
    "    raise e"
   ]
  }
 ],
 "metadata": {
  "kernelspec": {
   "display_name": "Python 3 (ipykernel)",
   "language": "python",
   "name": "python3"
  },
  "language_info": {
   "codemirror_mode": {
    "name": "ipython",
    "version": 3
   },
   "file_extension": ".py",
   "mimetype": "text/x-python",
   "name": "python",
   "nbconvert_exporter": "python",
   "pygments_lexer": "ipython3",
   "version": "3.9.13"
  }
 },
 "nbformat": 4,
 "nbformat_minor": 5
}
